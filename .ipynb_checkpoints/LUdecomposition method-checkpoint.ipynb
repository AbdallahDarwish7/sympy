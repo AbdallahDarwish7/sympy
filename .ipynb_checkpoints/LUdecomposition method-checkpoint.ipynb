{
 "cells": [
  {
   "cell_type": "code",
   "execution_count": 5,
   "metadata": {},
   "outputs": [],
   "source": [
    "import sympy as sp\n",
    "sp.init_printing()\n",
    "A=sp.Matrix([[1,5,3],[2,7,6],[2,6,2]])\n",
    "#for factorization we use LUdecomposition method\n",
    "L,U,_=A.LUdecomposition()"
   ]
  },
  {
   "cell_type": "code",
   "execution_count": 6,
   "metadata": {},
   "outputs": [
    {
     "data": {
      "image/png": "[encoded data removed]",
      "text/latex": [
       "$$\\left ( \\left[\\begin{matrix}1 & 0 & 0\\\\2 & 1 & 0\\\\2 & \\frac{4}{3} & 1\\end{matrix}\\right], \\quad \\left[\\begin{matrix}1 & 5 & 3\\\\0 & -3 & 0\\\\0 & 0 & -4\\end{matrix}\\right]\\right )$$"
      ],
      "text/plain": [
       "⎛⎡1   0   0⎤  ⎡1  5   3 ⎤⎞\n",
       "⎜⎢         ⎥  ⎢         ⎥⎟\n",
       "⎜⎢2   1   0⎥, ⎢0  -3  0 ⎥⎟\n",
       "⎜⎢         ⎥  ⎢         ⎥⎟\n",
       "⎝⎣2  4/3  1⎦  ⎣0  0   -4⎦⎠"
      ]
     },
     "execution_count": 6,
     "metadata": {},
     "output_type": "execute_result"
    }
   ],
   "source": [
    "L,U"
   ]
  },
  {
   "cell_type": "code",
   "execution_count": 15,
   "metadata": {},
   "outputs": [
    {
     "data": {
      "image/png": "[encoded data removed]",
      "text/latex": [
       "$$\\left[\\begin{matrix}1 & 5 & 3\\\\2 & 7 & 6\\\\2 & 6 & 2\\end{matrix}\\right]$$"
      ],
      "text/plain": [
       "⎡1  5  3⎤\n",
       "⎢       ⎥\n",
       "⎢2  7  6⎥\n",
       "⎢       ⎥\n",
       "⎣2  6  2⎦"
      ]
     },
     "execution_count": 15,
     "metadata": {},
     "output_type": "execute_result"
    }
   ],
   "source": [
    "L*U"
   ]
  },
  {
   "cell_type": "code",
   "execution_count": 16,
   "metadata": {},
   "outputs": [
    {
     "data": {
      "image/png": "[encoded data removed]",
      "text/latex": [
       "$$\\left[\\begin{matrix}1 & 5 & 3\\\\2 & 7 & 6\\\\2 & 6 & 2\\end{matrix}\\right]$$"
      ],
      "text/plain": [
       "⎡1  5  3⎤\n",
       "⎢       ⎥\n",
       "⎢2  7  6⎥\n",
       "⎢       ⎥\n",
       "⎣2  6  2⎦"
      ]
     },
     "execution_count": 16,
     "metadata": {},
     "output_type": "execute_result"
    }
   ],
   "source": [
    "A"
   ]
  },
  {
   "cell_type": "code",
   "execution_count": 17,
   "metadata": {},
   "outputs": [
    {
     "data": {
      "text/plain": [
       "True"
      ]
     },
     "execution_count": 17,
     "metadata": {},
     "output_type": "execute_result"
    }
   ],
   "source": [
    "A==L*U"
   ]
  },
  {
   "cell_type": "code",
   "execution_count": null,
   "metadata": {},
   "outputs": [],
   "source": []
  },
  {
   "cell_type": "code",
   "execution_count": null,
   "metadata": {},
   "outputs": [],
   "source": []
  }
 ],
 "metadata": {
  "kernelspec": {
   "display_name": "Python 3",
   "language": "python",
   "name": "python3"
  },
  "language_info": {
   "codemirror_mode": {
    "name": "ipython",
    "version": 3
   },
   "file_extension": ".py",
   "mimetype": "text/x-python",
   "name": "python",
   "nbconvert_exporter": "python",
   "pygments_lexer": "ipython3",
   "version": "3.7.0"
  }
 },
 "nbformat": 4,
 "nbformat_minor": 2
}
