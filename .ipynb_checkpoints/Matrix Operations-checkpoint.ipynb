{
 "cells": [
  {
   "cell_type": "markdown",
   "metadata": {},
   "source": [
    "# Matrix Operations"
   ]
  },
  {
   "cell_type": "code",
   "execution_count": 3,
   "metadata": {},
   "outputs": [
    {
     "data": {
      "text/plain": [
       "x**2"
      ]
     },
     "execution_count": 3,
     "metadata": {},
     "output_type": "execute_result"
    }
   ],
   "source": [
    "import sympy as sp\n",
    "# to use variables as a math symbols \n",
    "x,y = sp.symbols(\"x,y\")\n",
    "x**2"
   ]
  },
  {
   "cell_type": "code",
   "execution_count": 6,
   "metadata": {},
   "outputs": [
    {
     "data": {
      "text/latex": [
       "$$\\left ( x^{2}, \\quad y^{3}\\right )$$"
      ],
      "text/plain": [
       "⎛ 2   3⎞\n",
       "⎝x , y ⎠"
      ]
     },
     "execution_count": 6,
     "metadata": {},
     "output_type": "execute_result"
    }
   ],
   "source": [
    "sp.init_printing(use_latex='mathjax')\n",
    "x**2,y**3"
   ]
  },
  {
   "cell_type": "code",
   "execution_count": 8,
   "metadata": {},
   "outputs": [
    {
     "name": "stdout",
     "output_type": "stream",
     "text": [
      "(2, 2)\n",
      "\\left[\\begin{matrix}a_{11} & a_{12}\\\\a_{21} & a_{22}\\end{matrix}\\right]\n"
     ]
    }
   ],
   "source": [
    "a11,a12,a21,a22,b11,b12,b21,b22=sp.symbols(\"a11,a12,a21,a22,b11,b12,b21,b22\")\n",
    "A,B=sp.Matrix([[a11,a12],[a21,a22]]),sp.Matrix([[b12,b21],[b21,b22]])\n",
    "#to show the size as mxn\n",
    "print(A.shape)\n",
    "print(sp.latex(A))"
   ]
  },
  {
   "cell_type": "code",
   "execution_count": 9,
   "metadata": {},
   "outputs": [
    {
     "data": {
      "text/latex": [
       "$$\\left ( \\left[\\begin{matrix}a_{11} & a_{12}\\\\a_{21} & a_{22}\\end{matrix}\\right], \\quad \\left[\\begin{matrix}b_{12} & b_{21}\\\\b_{21} & b_{22}\\end{matrix}\\right]\\right )$$"
      ],
      "text/plain": [
       "⎛⎡a₁₁  a₁₂⎤  ⎡b₁₂  b₂₁⎤⎞\n",
       "⎜⎢        ⎥, ⎢        ⎥⎟\n",
       "⎝⎣a₂₁  a₂₂⎦  ⎣b₂₁  b₂₂⎦⎠"
      ]
     },
     "execution_count": 9,
     "metadata": {},
     "output_type": "execute_result"
    }
   ],
   "source": [
    "A,B"
   ]
  },
  {
   "cell_type": "code",
   "execution_count": 10,
   "metadata": {},
   "outputs": [
    {
     "data": {
      "text/latex": [
       "$$\\left[\\begin{matrix}2 a_{11} & 2 a_{12}\\\\2 a_{21} & 2 a_{22}\\end{matrix}\\right]$$"
      ],
      "text/plain": [
       "⎡2⋅a₁₁  2⋅a₁₂⎤\n",
       "⎢            ⎥\n",
       "⎣2⋅a₂₁  2⋅a₂₂⎦"
      ]
     },
     "execution_count": 10,
     "metadata": {},
     "output_type": "execute_result"
    }
   ],
   "source": [
    "#multiple by constant\n",
    "A*2"
   ]
  },
  {
   "cell_type": "code",
   "execution_count": 11,
   "metadata": {},
   "outputs": [
    {
     "data": {
      "text/latex": [
       "$$\\left[\\begin{matrix}a_{11}^{2} + a_{12} a_{21} & a_{11} a_{12} + a_{12} a_{22}\\\\a_{11} a_{21} + a_{21} a_{22} & a_{12} a_{21} + a_{22}^{2}\\end{matrix}\\right]$$"
      ],
      "text/plain": [
       "⎡    2                               ⎤\n",
       "⎢ a₁₁  + a₁₂⋅a₂₁    a₁₁⋅a₁₂ + a₁₂⋅a₂₂⎥\n",
       "⎢                                    ⎥\n",
       "⎢                                 2  ⎥\n",
       "⎣a₁₁⋅a₂₁ + a₂₁⋅a₂₂   a₁₂⋅a₂₁ + a₂₂   ⎦"
      ]
     },
     "execution_count": 11,
     "metadata": {},
     "output_type": "execute_result"
    }
   ],
   "source": [
    "A**2 \n",
    "# the same as A*A"
   ]
  },
  {
   "cell_type": "code",
   "execution_count": 19,
   "metadata": {},
   "outputs": [
    {
     "data": {
      "text/latex": [
       "$$\\left[\\begin{matrix}a_{11} + b_{12} & a_{12} + b_{21}\\\\a_{21} + b_{21} & a_{22} + b_{22}\\end{matrix}\\right]$$"
      ],
      "text/plain": [
       "⎡a₁₁ + b₁₂  a₁₂ + b₂₁⎤\n",
       "⎢                    ⎥\n",
       "⎣a₂₁ + b₂₁  a₂₂ + b₂₂⎦"
      ]
     },
     "execution_count": 19,
     "metadata": {},
     "output_type": "execute_result"
    }
   ],
   "source": [
    "A+B"
   ]
  },
  {
   "cell_type": "code",
   "execution_count": 20,
   "metadata": {},
   "outputs": [
    {
     "data": {
      "text/latex": [
       "$$\\left[\\begin{matrix}a_{11} b_{12} + a_{12} b_{21} & a_{11} b_{21} + a_{12} b_{22}\\\\a_{21} b_{12} + a_{22} b_{21} & a_{21} b_{21} + a_{22} b_{22}\\end{matrix}\\right]$$"
      ],
      "text/plain": [
       "⎡a₁₁⋅b₁₂ + a₁₂⋅b₂₁  a₁₁⋅b₂₁ + a₁₂⋅b₂₂⎤\n",
       "⎢                                    ⎥\n",
       "⎣a₂₁⋅b₁₂ + a₂₂⋅b₂₁  a₂₁⋅b₂₁ + a₂₂⋅b₂₂⎦"
      ]
     },
     "execution_count": 20,
     "metadata": {},
     "output_type": "execute_result"
    }
   ],
   "source": [
    "A*B"
   ]
  },
  {
   "cell_type": "code",
   "execution_count": 39,
   "metadata": {},
   "outputs": [
    {
     "data": {
      "text/latex": [
       "$$\\left[\\begin{matrix}\\frac{a_{22}}{a_{11} a_{22} - a_{12} a_{21}} & - \\frac{a_{12}}{a_{11} a_{22} - a_{12} a_{21}}\\\\- \\frac{a_{21}}{a_{11} a_{22} - a_{12} a_{21}} & \\frac{a_{11}}{a_{11} a_{22} - a_{12} a_{21}}\\end{matrix}\\right]$$"
      ],
      "text/plain": [
       "⎡       a₂₂               -a₁₂       ⎤\n",
       "⎢─────────────────  ─────────────────⎥\n",
       "⎢a₁₁⋅a₂₂ - a₁₂⋅a₂₁  a₁₁⋅a₂₂ - a₁₂⋅a₂₁⎥\n",
       "⎢                                    ⎥\n",
       "⎢      -a₂₁                a₁₁       ⎥\n",
       "⎢─────────────────  ─────────────────⎥\n",
       "⎣a₁₁⋅a₂₂ - a₁₂⋅a₂₁  a₁₁⋅a₂₂ - a₁₂⋅a₂₁⎦"
      ]
     },
     "execution_count": 39,
     "metadata": {},
     "output_type": "execute_result"
    }
   ],
   "source": [
    "#inverse of matrix\n",
    "A**-1"
   ]
  },
  {
   "cell_type": "code",
   "execution_count": 12,
   "metadata": {},
   "outputs": [
    {
     "data": {
      "text/latex": [
       "$$\\left[\\begin{matrix}1 & 2\\\\3 & 4\\end{matrix}\\right]$$"
      ],
      "text/plain": [
       "⎡1  2⎤\n",
       "⎢    ⎥\n",
       "⎣3  4⎦"
      ]
     },
     "execution_count": 12,
     "metadata": {},
     "output_type": "execute_result"
    }
   ],
   "source": [
    "A=sp.Matrix([[1,2],[3,4]])\n",
    "A"
   ]
  },
  {
   "cell_type": "code",
   "execution_count": 13,
   "metadata": {},
   "outputs": [
    {
     "data": {
      "text/latex": [
       "$$\\left[\\begin{matrix}-2 & 1\\\\\\frac{3}{2} & - \\frac{1}{2}\\end{matrix}\\right]$$"
      ],
      "text/plain": [
       "⎡-2    1  ⎤\n",
       "⎢         ⎥\n",
       "⎣3/2  -1/2⎦"
      ]
     },
     "execution_count": 13,
     "metadata": {},
     "output_type": "execute_result"
    }
   ],
   "source": [
    "A**-1"
   ]
  },
  {
   "cell_type": "code",
   "execution_count": 14,
   "metadata": {},
   "outputs": [
    {
     "data": {
      "text/latex": [
       "$$\\left[\\begin{matrix}1 & 3\\\\2 & 4\\end{matrix}\\right]$$"
      ],
      "text/plain": [
       "⎡1  3⎤\n",
       "⎢    ⎥\n",
       "⎣2  4⎦"
      ]
     },
     "execution_count": 14,
     "metadata": {},
     "output_type": "execute_result"
    }
   ],
   "source": [
    "#Transpose of Matrix\n",
    "A.T"
   ]
  },
  {
   "cell_type": "code",
   "execution_count": 22,
   "metadata": {},
   "outputs": [
    {
     "data": {
      "text/latex": [
       "$$-2$$"
      ],
      "text/plain": [
       "-2"
      ]
     },
     "execution_count": 22,
     "metadata": {},
     "output_type": "execute_result"
    }
   ],
   "source": [
    "#determinate of matrix\n",
    "A.det()"
   ]
  },
  {
   "cell_type": "markdown",
   "metadata": {},
   "source": [
    "# Matrix Constructors\n",
    "eye(n),zeros(m$\\times$n),ones(m$\\times$n),diag(m$\\times$n)"
   ]
  },
  {
   "cell_type": "code",
   "execution_count": 15,
   "metadata": {},
   "outputs": [
    {
     "data": {
      "text/latex": [
       "$$\\left ( \\left[\\begin{matrix}1 & 0\\\\0 & 1\\end{matrix}\\right], \\quad \\left[\\begin{matrix}1 & 0 & 0\\\\0 & 1 & 0\\\\0 & 0 & 1\\end{matrix}\\right], \\quad \\left[\\begin{matrix}1 & 0 & 0 & 0\\\\0 & 1 & 0 & 0\\\\0 & 0 & 1 & 0\\\\0 & 0 & 0 & 1\\end{matrix}\\right]\\right )$$"
      ],
      "text/plain": [
       "⎛                   ⎡1  0  0  0⎤⎞\n",
       "⎜        ⎡1  0  0⎤  ⎢          ⎥⎟\n",
       "⎜⎡1  0⎤  ⎢       ⎥  ⎢0  1  0  0⎥⎟\n",
       "⎜⎢    ⎥, ⎢0  1  0⎥, ⎢          ⎥⎟\n",
       "⎜⎣0  1⎦  ⎢       ⎥  ⎢0  0  1  0⎥⎟\n",
       "⎜        ⎣0  0  1⎦  ⎢          ⎥⎟\n",
       "⎝                   ⎣0  0  0  1⎦⎠"
      ]
     },
     "execution_count": 15,
     "metadata": {},
     "output_type": "execute_result"
    }
   ],
   "source": [
    "sp.eye(2),sp.eye(3),sp.eye(4)"
   ]
  },
  {
   "cell_type": "code",
   "execution_count": 16,
   "metadata": {},
   "outputs": [
    {
     "data": {
      "text/latex": [
       "$$\\left ( \\left[\\begin{matrix}0 & 0 & 0\\\\0 & 0 & 0\\\\0 & 0 & 0\\end{matrix}\\right], \\quad \\left[\\begin{matrix}0 & 0 & 0\\\\0 & 0 & 0\\end{matrix}\\right], \\quad \\left[\\begin{matrix}0 & 0\\\\0 & 0\\\\0 & 0\\end{matrix}\\right]\\right )$$"
      ],
      "text/plain": [
       "⎛⎡0  0  0⎤             ⎡0  0⎤⎞\n",
       "⎜⎢       ⎥  ⎡0  0  0⎤  ⎢    ⎥⎟\n",
       "⎜⎢0  0  0⎥, ⎢       ⎥, ⎢0  0⎥⎟\n",
       "⎜⎢       ⎥  ⎣0  0  0⎦  ⎢    ⎥⎟\n",
       "⎝⎣0  0  0⎦             ⎣0  0⎦⎠"
      ]
     },
     "execution_count": 16,
     "metadata": {},
     "output_type": "execute_result"
    }
   ],
   "source": [
    "sp.zeros(3),sp.zeros(2,3),sp.zeros(3,2)"
   ]
  },
  {
   "cell_type": "code",
   "execution_count": 17,
   "metadata": {},
   "outputs": [
    {
     "data": {
      "text/latex": [
       "$$\\left ( \\left[\\begin{matrix}1 & 1 & 1\\\\1 & 1 & 1\\\\1 & 1 & 1\\end{matrix}\\right], \\quad \\left[\\begin{matrix}1 & 1 & 1\\\\1 & 1 & 1\\\\1 & 1 & 1\\end{matrix}\\right], \\quad \\left[\\begin{matrix}1\\\\1\\end{matrix}\\right]\\right )$$"
      ],
      "text/plain": [
       "⎛⎡1  1  1⎤  ⎡1  1  1⎤     ⎞\n",
       "⎜⎢       ⎥  ⎢       ⎥  ⎡1⎤⎟\n",
       "⎜⎢1  1  1⎥, ⎢1  1  1⎥, ⎢ ⎥⎟\n",
       "⎜⎢       ⎥  ⎢       ⎥  ⎣1⎦⎟\n",
       "⎝⎣1  1  1⎦  ⎣1  1  1⎦     ⎠"
      ]
     },
     "execution_count": 17,
     "metadata": {},
     "output_type": "execute_result"
    }
   ],
   "source": [
    "sp.ones(3),sp.ones(3,3),sp.ones(2,1)"
   ]
  },
  {
   "cell_type": "code",
   "execution_count": 19,
   "metadata": {},
   "outputs": [
    {
     "data": {
      "text/latex": [
       "$$\\left ( \\left[\\begin{matrix}4\\end{matrix}\\right], \\quad \\left[\\begin{matrix}2 & 0\\\\0 & 5\\end{matrix}\\right], \\quad \\left[\\begin{matrix}3 & 0\\\\0 & 1\\end{matrix}\\right], \\quad \\left[\\begin{matrix}2 & 0 & 0 & 0 & 0\\\\0 & 3 & 0 & 0 & 0\\\\0 & 0 & 4 & 0 & 0\\\\0 & 0 & 0 & 5 & 0\\\\0 & 0 & 0 & 0 & 6\\end{matrix}\\right]\\right )$$"
      ],
      "text/plain": [
       "⎛                     ⎡2  0  0  0  0⎤⎞\n",
       "⎜                     ⎢             ⎥⎟\n",
       "⎜                     ⎢0  3  0  0  0⎥⎟\n",
       "⎜     ⎡2  0⎤  ⎡3  0⎤  ⎢             ⎥⎟\n",
       "⎜[4], ⎢    ⎥, ⎢    ⎥, ⎢0  0  4  0  0⎥⎟\n",
       "⎜     ⎣0  5⎦  ⎣0  1⎦  ⎢             ⎥⎟\n",
       "⎜                     ⎢0  0  0  5  0⎥⎟\n",
       "⎜                     ⎢             ⎥⎟\n",
       "⎝                     ⎣0  0  0  0  6⎦⎠"
      ]
     },
     "execution_count": 19,
     "metadata": {},
     "output_type": "execute_result"
    }
   ],
   "source": [
    "sp.diag(4),sp.diag(2,5),sp.diag(3,1),sp.diag(2,3,4,5,6)"
   ]
  },
  {
   "cell_type": "code",
   "execution_count": 20,
   "metadata": {},
   "outputs": [
    {
     "data": {
      "text/latex": [
       "$$\\left[\\begin{matrix}1 & 2\\\\3 & 4\\end{matrix}\\right]$$"
      ],
      "text/plain": [
       "⎡1  2⎤\n",
       "⎢    ⎥\n",
       "⎣3  4⎦"
      ]
     },
     "execution_count": 20,
     "metadata": {},
     "output_type": "execute_result"
    }
   ],
   "source": [
    "A"
   ]
  },
  {
   "cell_type": "code",
   "execution_count": null,
   "metadata": {},
   "outputs": [],
   "source": []
  },
  {
   "cell_type": "code",
   "execution_count": null,
   "metadata": {},
   "outputs": [],
   "source": []
  }
 ],
 "metadata": {
  "kernelspec": {
   "display_name": "Python 3",
   "language": "python",
   "name": "python3"
  },
  "language_info": {
   "codemirror_mode": {
    "name": "ipython",
    "version": 3
   },
   "file_extension": ".py",
   "mimetype": "text/x-python",
   "name": "python",
   "nbconvert_exporter": "python",
   "pygments_lexer": "ipython3",
   "version": "3.7.0"
  }
 },
 "nbformat": 4,
 "nbformat_minor": 2
}
