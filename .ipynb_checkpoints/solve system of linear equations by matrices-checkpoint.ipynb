{
 "cells": [
  {
   "cell_type": "markdown",
   "metadata": {},
   "source": [
    "solve :$$x+2y+z+w=2$$\n",
    "$$2x+y+z+3w=3$$\n",
    "$$5x+2y+3z+4w=5$$\n",
    "$$6x+3y+2z+w=3$$"
   ]
  },
  {
   "cell_type": "markdown",
   "metadata": {},
   "source": [
    "# by using $X=A^{-1}B$"
   ]
  },
  {
   "cell_type": "code",
   "execution_count": 2,
   "metadata": {},
   "outputs": [
    {
     "data": {
      "text/latex": [
       "$$\\left[\\begin{matrix}\\frac{1}{27}\\\\\\frac{4}{9}\\\\\\frac{10}{27}\\\\\\frac{19}{27}\\end{matrix}\\right]$$"
      ],
      "text/plain": [
       "⎡1/27⎤\n",
       "⎢    ⎥\n",
       "⎢4/9 ⎥\n",
       "⎢    ⎥\n",
       "⎢ 10 ⎥\n",
       "⎢ ── ⎥\n",
       "⎢ 27 ⎥\n",
       "⎢    ⎥\n",
       "⎢ 19 ⎥\n",
       "⎢ ── ⎥\n",
       "⎣ 27 ⎦"
      ]
     },
     "execution_count": 2,
     "metadata": {},
     "output_type": "execute_result"
    }
   ],
   "source": [
    "import sympy as sym\n",
    "sym.init_printing(use_latex=\"mathjax\")\n",
    "A=sym.Matrix([[1,2,1,1],[2,1,1,3],[5,2,3,4],[6,3,2,1]])\n",
    "B=sym.Matrix([2,3,5,3])\n",
    "X=(A**-1)*B\n",
    "X"
   ]
  },
  {
   "cell_type": "markdown",
   "metadata": {},
   "source": [
    "# by using ERO"
   ]
  },
  {
   "cell_type": "code",
   "execution_count": 2,
   "metadata": {},
   "outputs": [
    {
     "data": {
      "text/latex": [
       "$$\\left[\\begin{matrix}1 & 0 & 0 & 0 & \\frac{1}{27}\\\\0 & 1 & 0 & 0 & \\frac{4}{9}\\\\0 & 0 & 1 & 0 & \\frac{10}{27}\\\\0 & 0 & 0 & 1 & \\frac{19}{27}\\end{matrix}\\right]$$"
      ],
      "text/plain": [
       "⎡1  0  0  0  1/27⎤\n",
       "⎢                ⎥\n",
       "⎢0  1  0  0  4/9 ⎥\n",
       "⎢                ⎥\n",
       "⎢             10 ⎥\n",
       "⎢0  0  1  0   ── ⎥\n",
       "⎢             27 ⎥\n",
       "⎢                ⎥\n",
       "⎢             19 ⎥\n",
       "⎢0  0  0  1   ── ⎥\n",
       "⎣             27 ⎦"
      ]
     },
     "execution_count": 2,
     "metadata": {},
     "output_type": "execute_result"
    }
   ],
   "source": [
    "A=sym.Matrix([[1,2,1,1,2],[2,1,1,3,3],[5,2,3,4,5],[6,3,2,1,3]])\n",
    "A_rref,A_pivots=A.rref()\n",
    "A_rref"
   ]
  },
  {
   "cell_type": "code",
   "execution_count": 3,
   "metadata": {},
   "outputs": [
    {
     "data": {
      "text/latex": [
       "$$\\left[\\begin{matrix}\\frac{1}{27}\\\\\\frac{4}{9}\\\\\\frac{10}{27}\\\\\\frac{19}{27}\\end{matrix}\\right]$$"
      ],
      "text/plain": [
       "⎡1/27⎤\n",
       "⎢    ⎥\n",
       "⎢4/9 ⎥\n",
       "⎢    ⎥\n",
       "⎢ 10 ⎥\n",
       "⎢ ── ⎥\n",
       "⎢ 27 ⎥\n",
       "⎢    ⎥\n",
       "⎢ 19 ⎥\n",
       "⎢ ── ⎥\n",
       "⎣ 27 ⎦"
      ]
     },
     "execution_count": 3,
     "metadata": {},
     "output_type": "execute_result"
    }
   ],
   "source": [
    "X=A_rref[:,4]\n",
    "X"
   ]
  },
  {
   "cell_type": "code",
   "execution_count": null,
   "metadata": {},
   "outputs": [],
   "source": []
  }
 ],
 "metadata": {
  "kernelspec": {
   "display_name": "Python 3",
   "language": "python",
   "name": "python3"
  },
  "language_info": {
   "codemirror_mode": {
    "name": "ipython",
    "version": 3
   },
   "file_extension": ".py",
   "mimetype": "text/x-python",
   "name": "python",
   "nbconvert_exporter": "python",
   "pygments_lexer": "ipython3",
   "version": "3.7.0"
  }
 },
 "nbformat": 4,
 "nbformat_minor": 2
}
