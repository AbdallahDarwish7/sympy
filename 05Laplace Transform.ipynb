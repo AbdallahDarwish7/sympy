{
 "cells": [
  {
   "cell_type": "code",
   "execution_count": 2,
   "metadata": {},
   "outputs": [
    {
     "data": {
      "image/png": "[encoded data removed]",
      "text/latex": [
       "$$\\left ( \\frac{2}{s^{3}}, \\quad 0, \\quad \\mathrm{True}\\right )$$"
      ],
      "text/plain": [
       "⎛2          ⎞\n",
       "⎜──, 0, True⎟\n",
       "⎜ 3         ⎟\n",
       "⎝s          ⎠"
      ]
     },
     "execution_count": 2,
     "metadata": {},
     "output_type": "execute_result"
    }
   ],
   "source": [
    "import sympy as sp\n",
    "sp.init_printing(use_latex=True)\n",
    "L=sp.laplace_transform\n",
    "t,s=sp.symbols('t,s')\n",
    "f=t**2\n",
    "F=L(f,t,s)\n",
    "F"
   ]
  },
  {
   "cell_type": "code",
   "execution_count": 41,
   "metadata": {},
   "outputs": [
    {
     "data": {
      "image/png": "[encoded data removed]",
      "text/latex": [
       "$$\\left ( \\frac{3 s^{2} + s \\left(s^{2} + 9\\right) + 48}{\\left(s^{2} + 9\\right) \\left(s^{2} + 16\\right)}, \\quad 0, \\quad \\mathrm{True}\\right )$$"
      ],
      "text/plain": [
       "⎛   2     ⎛ 2    ⎞              ⎞\n",
       "⎜3⋅s  + s⋅⎝s  + 9⎠ + 48         ⎟\n",
       "⎜──────────────────────, 0, True⎟\n",
       "⎜  ⎛ 2    ⎞ ⎛ 2     ⎞           ⎟\n",
       "⎝  ⎝s  + 9⎠⋅⎝s  + 16⎠           ⎠"
      ]
     },
     "execution_count": 41,
     "metadata": {},
     "output_type": "execute_result"
    }
   ],
   "source": [
    "x=sp.symbols('x')\n",
    "f=sp.sin(3*x)+sp.cos(4*x)\n",
    "F=L(f,x,s)\n",
    "F\n",
    "# zero in below tuple for s>0"
   ]
  },
  {
   "cell_type": "code",
   "execution_count": 42,
   "metadata": {},
   "outputs": [
    {
     "data": {
      "image/png": "[encoded data removed]",
      "text/latex": [
       "$$\\frac{s}{s^{2} + 16} + \\frac{3}{s^{2} + 9}$$"
      ],
      "text/plain": [
       "   s        3   \n",
       "─────── + ──────\n",
       " 2         2    \n",
       "s  + 16   s  + 9"
      ]
     },
     "execution_count": 42,
     "metadata": {},
     "output_type": "execute_result"
    }
   ],
   "source": [
    "sp.apart(F[0])"
   ]
  },
  {
   "cell_type": "code",
   "execution_count": 5,
   "metadata": {},
   "outputs": [
    {
     "data": {
      "image/png": "[encoded data removed]",
      "text/latex": [
       "$$\\theta\\left(t - 2\\right)$$"
      ],
      "text/plain": [
       "Heaviside(t - 2, 1)"
      ]
     },
     "execution_count": 5,
     "metadata": {},
     "output_type": "execute_result"
    }
   ],
   "source": [
    "u=sp.Heaviside(t-2,1)\n",
    "u"
   ]
  },
  {
   "cell_type": "code",
   "execution_count": 7,
   "metadata": {},
   "outputs": [],
   "source": [
    "g=u*f"
   ]
  },
  {
   "cell_type": "code",
   "execution_count": 8,
   "metadata": {},
   "outputs": [
    {
     "data": {
      "image/png": "[encoded data removed]",
      "text/latex": [
       "$$\\mathcal{L}_{t}\\left[t^{2} \\theta\\left(t - 2\\right)\\right]\\left(s\\right)$$"
      ],
      "text/plain": [
       "                ⎛ 2                          ⎞\n",
       "LaplaceTransform⎝t ⋅Heaviside(t - 2, 1), t, s⎠"
      ]
     },
     "execution_count": 8,
     "metadata": {},
     "output_type": "execute_result"
    }
   ],
   "source": [
    "L(g,t,s)"
   ]
  },
  {
   "cell_type": "code",
   "execution_count": null,
   "metadata": {},
   "outputs": [],
   "source": []
  }
 ],
 "metadata": {
  "kernelspec": {
   "display_name": "Python 3",
   "language": "python",
   "name": "python3"
  },
  "language_info": {
   "codemirror_mode": {
    "name": "ipython",
    "version": 3
   },
   "file_extension": ".py",
   "mimetype": "text/x-python",
   "name": "python",
   "nbconvert_exporter": "python",
   "pygments_lexer": "ipython3",
   "version": "3.7.0"
  }
 },
 "nbformat": 4,
 "nbformat_minor": 2
}
