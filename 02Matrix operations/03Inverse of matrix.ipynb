{
 "cells": [
  {
   "cell_type": "code",
   "execution_count": 4,
   "metadata": {},
   "outputs": [],
   "source": [
    "from sympy import Matrix ,init_printing\n",
    "init_printing()"
   ]
  },
  {
   "cell_type": "markdown",
   "metadata": {},
   "source": [
    "$$A\\underline{X}=\\underline{B}$$"
   ]
  },
  {
   "cell_type": "markdown",
   "metadata": {},
   "source": [
    "$$\\underline{X}=A^{-1}\\underline{B}$$"
   ]
  },
  {
   "cell_type": "code",
   "execution_count": 16,
   "metadata": {},
   "outputs": [
    {
     "data": {
      "image/png": "[encoded data removed]",
      "text/latex": [
       "$$\\left[\\begin{matrix}\\frac{5}{3} & \\frac{2}{9} & - \\frac{11}{9}\\\\- \\frac{10}{3} & - \\frac{1}{9} & \\frac{19}{9}\\\\2 & 0 & -1\\end{matrix}\\right]$$"
      ],
      "text/plain": [
       "⎡ 5/3   2/9   -11/9⎤\n",
       "⎢                  ⎥\n",
       "⎢-10/3  -1/9  19/9 ⎥\n",
       "⎢                  ⎥\n",
       "⎣  2     0     -1  ⎦"
      ]
     },
     "execution_count": 16,
     "metadata": {},
     "output_type": "execute_result"
    }
   ],
   "source": [
    "#to get inverse the matrix must be square\n",
    "M=Matrix([[1,2,3],[8,7,5],[2,4,5]])\n",
    "M**-1"
   ]
  },
  {
   "cell_type": "markdown",
   "metadata": {},
   "source": [
    "# Or using `inv()` method"
   ]
  },
  {
   "cell_type": "code",
   "execution_count": 17,
   "metadata": {},
   "outputs": [
    {
     "data": {
      "image/png": "[encoded data removed]",
      "text/latex": [
       "$$\\left[\\begin{matrix}\\frac{5}{3} & \\frac{2}{9} & - \\frac{11}{9}\\\\- \\frac{10}{3} & - \\frac{1}{9} & \\frac{19}{9}\\\\2 & 0 & -1\\end{matrix}\\right]$$"
      ],
      "text/plain": [
       "⎡ 5/3   2/9   -11/9⎤\n",
       "⎢                  ⎥\n",
       "⎢-10/3  -1/9  19/9 ⎥\n",
       "⎢                  ⎥\n",
       "⎣  2     0     -1  ⎦"
      ]
     },
     "execution_count": 17,
     "metadata": {},
     "output_type": "execute_result"
    }
   ],
   "source": [
    "M.inv()"
   ]
  },
  {
   "cell_type": "markdown",
   "metadata": {},
   "source": [
    "# Getting Inverse Using Elementary Row Operation\n",
    "## using `.rref` method (row reduced function)"
   ]
  },
  {
   "cell_type": "code",
   "execution_count": 20,
   "metadata": {},
   "outputs": [
    {
     "data": {
      "image/png": "[encoded data removed]",
      "text/latex": [
       "$$\\left[\\begin{matrix}1 & 0 & 0\\\\0 & 1 & 0\\\\0 & 0 & 1\\end{matrix}\\right]$$"
      ],
      "text/plain": [
       "⎡1  0  0⎤\n",
       "⎢       ⎥\n",
       "⎢0  1  0⎥\n",
       "⎢       ⎥\n",
       "⎣0  0  1⎦"
      ]
     },
     "execution_count": 20,
     "metadata": {},
     "output_type": "execute_result"
    }
   ],
   "source": [
    "M=Matrix([[1,2,3],[8,7,5],[2,4,5]])\n",
    "#we must add the I matrix in side M \n",
    "#because .rref method do operation on matrix converting it to identity\n",
    "#see this \n",
    "M_rref,M_pivot=M.rref()\n",
    "M_rref"
   ]
  },
  {
   "cell_type": "code",
   "execution_count": 22,
   "metadata": {},
   "outputs": [
    {
     "data": {
      "image/png": "[encoded data removed]",
      "text/latex": [
       "$$\\left[\\begin{matrix}1 & 0 & 0 & \\frac{5}{3} & \\frac{2}{9} & - \\frac{11}{9}\\\\0 & 1 & 0 & - \\frac{10}{3} & - \\frac{1}{9} & \\frac{19}{9}\\\\0 & 0 & 1 & 2 & 0 & -1\\end{matrix}\\right]$$"
      ],
      "text/plain": [
       "⎡1  0  0   5/3   2/9   -11/9⎤\n",
       "⎢                           ⎥\n",
       "⎢0  1  0  -10/3  -1/9  19/9 ⎥\n",
       "⎢                           ⎥\n",
       "⎣0  0  1    2     0     -1  ⎦"
      ]
     },
     "execution_count": 22,
     "metadata": {},
     "output_type": "execute_result"
    }
   ],
   "source": [
    "#then\n",
    "M=Matrix([[1,2,3,1,0,0],[8,7,5,0,1,0],[2,4,5,0,0,1]])\n",
    "M_rref,M_pivot=M.rref()\n",
    "M_rref"
   ]
  },
  {
   "cell_type": "code",
   "execution_count": 26,
   "metadata": {},
   "outputs": [
    {
     "data": {
      "image/png": "[encoded data removed]",
      "text/latex": [
       "$$\\left[\\begin{matrix}\\frac{5}{3} & \\frac{2}{9} & - \\frac{11}{9}\\\\- \\frac{10}{3} & - \\frac{1}{9} & \\frac{19}{9}\\\\2 & 0 & -1\\end{matrix}\\right]$$"
      ],
      "text/plain": [
       "⎡ 5/3   2/9   -11/9⎤\n",
       "⎢                  ⎥\n",
       "⎢-10/3  -1/9  19/9 ⎥\n",
       "⎢                  ⎥\n",
       "⎣  2     0     -1  ⎦"
      ]
     },
     "execution_count": 26,
     "metadata": {},
     "output_type": "execute_result"
    }
   ],
   "source": [
    "M_rref[:,3:]"
   ]
  },
  {
   "cell_type": "markdown",
   "metadata": {},
   "source": [
    "# Or using `.inv()` method"
   ]
  },
  {
   "cell_type": "code",
   "execution_count": 28,
   "metadata": {},
   "outputs": [
    {
     "data": {
      "image/png": "[encoded data removed]",
      "text/latex": [
       "$$\\left[\\begin{matrix}\\frac{5}{3} & \\frac{2}{9} & - \\frac{11}{9}\\\\- \\frac{10}{3} & - \\frac{1}{9} & \\frac{19}{9}\\\\2 & 0 & -1\\end{matrix}\\right]$$"
      ],
      "text/plain": [
       "⎡ 5/3   2/9   -11/9⎤\n",
       "⎢                  ⎥\n",
       "⎢-10/3  -1/9  19/9 ⎥\n",
       "⎢                  ⎥\n",
       "⎣  2     0     -1  ⎦"
      ]
     },
     "execution_count": 28,
     "metadata": {},
     "output_type": "execute_result"
    }
   ],
   "source": [
    "M=Matrix([[1,2,3],[8,7,5],[2,4,5]])\n",
    "M.inv()"
   ]
  },
  {
   "cell_type": "code",
   "execution_count": 33,
   "metadata": {},
   "outputs": [
    {
     "data": {
      "image/png": "[encoded data removed]",
      "text/latex": [
       "$$\\left ( \\left[\\begin{matrix}\\frac{5}{3} & \\frac{2}{9} & - \\frac{11}{9}\\\\- \\frac{10}{3} & - \\frac{1}{9} & \\frac{19}{9}\\\\2 & 0 & -1\\end{matrix}\\right], \\quad \\left[\\begin{matrix}\\frac{5}{3} & \\frac{2}{9} & - \\frac{11}{9}\\\\- \\frac{10}{3} & - \\frac{1}{9} & \\frac{19}{9}\\\\2 & 0 & -1\\end{matrix}\\right], \\quad \\left[\\begin{matrix}\\frac{5}{3} & \\frac{2}{9} & - \\frac{11}{9}\\\\- \\frac{10}{3} & - \\frac{1}{9} & \\frac{19}{9}\\\\2 & 0 & -1\\end{matrix}\\right]\\right )$$"
      ],
      "text/plain": [
       "⎛⎡ 5/3   2/9   -11/9⎤  ⎡ 5/3   2/9   -11/9⎤  ⎡ 5/3   2/9   -11/9⎤⎞\n",
       "⎜⎢                  ⎥  ⎢                  ⎥  ⎢                  ⎥⎟\n",
       "⎜⎢-10/3  -1/9  19/9 ⎥, ⎢-10/3  -1/9  19/9 ⎥, ⎢-10/3  -1/9  19/9 ⎥⎟\n",
       "⎜⎢                  ⎥  ⎢                  ⎥  ⎢                  ⎥⎟\n",
       "⎝⎣  2     0     -1  ⎦  ⎣  2     0     -1  ⎦  ⎣  2     0     -1  ⎦⎠"
      ]
     },
     "execution_count": 33,
     "metadata": {},
     "output_type": "execute_result"
    }
   ],
   "source": [
    "# you can define the methode\n",
    "#LU,GE-->gauss elemenation ,ADJ-->adjoint of matrix\n",
    "M.inv(method=\"LU\"),M.inv(method=\"GE\"),M.inv(method=\"ADJ\")"
   ]
  },
  {
   "cell_type": "code",
   "execution_count": 34,
   "metadata": {},
   "outputs": [
    {
     "data": {
      "image/png": "[encoded data removed]",
      "text/latex": [
       "$$\\left ( \\left[\\begin{matrix}\\frac{5}{3} & \\frac{2}{9} & - \\frac{11}{9}\\\\- \\frac{10}{3} & - \\frac{1}{9} & \\frac{19}{9}\\\\2 & 0 & -1\\end{matrix}\\right], \\quad \\left[\\begin{matrix}\\frac{5}{3} & \\frac{2}{9} & - \\frac{11}{9}\\\\- \\frac{10}{3} & - \\frac{1}{9} & \\frac{19}{9}\\\\2 & 0 & -1\\end{matrix}\\right], \\quad \\left[\\begin{matrix}\\frac{5}{3} & \\frac{2}{9} & - \\frac{11}{9}\\\\- \\frac{10}{3} & - \\frac{1}{9} & \\frac{19}{9}\\\\2 & 0 & -1\\end{matrix}\\right]\\right )$$"
      ],
      "text/plain": [
       "⎛⎡ 5/3   2/9   -11/9⎤  ⎡ 5/3   2/9   -11/9⎤  ⎡ 5/3   2/9   -11/9⎤⎞\n",
       "⎜⎢                  ⎥  ⎢                  ⎥  ⎢                  ⎥⎟\n",
       "⎜⎢-10/3  -1/9  19/9 ⎥, ⎢-10/3  -1/9  19/9 ⎥, ⎢-10/3  -1/9  19/9 ⎥⎟\n",
       "⎜⎢                  ⎥  ⎢                  ⎥  ⎢                  ⎥⎟\n",
       "⎝⎣  2     0     -1  ⎦  ⎣  2     0     -1  ⎦  ⎣  2     0     -1  ⎦⎠"
      ]
     },
     "execution_count": 34,
     "metadata": {},
     "output_type": "execute_result"
    }
   ],
   "source": [
    "M.inverse_LU(),M.inverse_GE(),M.inverse_ADJ()"
   ]
  },
  {
   "cell_type": "code",
   "execution_count": null,
   "metadata": {},
   "outputs": [],
   "source": []
  }
 ],
 "metadata": {
  "kernelspec": {
   "display_name": "Python 3",
   "language": "python",
   "name": "python3"
  },
  "language_info": {
   "codemirror_mode": {
    "name": "ipython",
    "version": 3
   },
   "file_extension": ".py",
   "mimetype": "text/x-python",
   "name": "python",
   "nbconvert_exporter": "python",
   "pygments_lexer": "ipython3",
   "version": "3.7.0"
  }
 },
 "nbformat": 4,
 "nbformat_minor": 2
}
